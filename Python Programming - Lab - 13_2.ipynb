{
 "cells": [
  {
   "cell_type": "markdown",
   "metadata": {},
   "source": [
    "<a href='https://www.darshan.ac.in/'> <img src='https://www.darshan.ac.in/Content/media/DU_Logo.svg' width=\"250\" height=\"300\"/></a>\n",
    "<pre>\n",
    "<center><b><h1>Python Programming - 2301CS404</b></center>\n",
    "<center><b><h1>Lab - 13</b></center>    \n",
    "<center><b><h1>Raj Dedakiya | 23010101056 | 325</b></center> \n",
    "<pre>"
   ]
  },
  {
   "cell_type": "markdown",
   "metadata": {},
   "source": [
    "## Continued.."
   ]
  },
  {
   "cell_type": "markdown",
   "metadata": {},
   "source": [
    "### 10) Calculate area of a ractangle using object as an argument to a method."
   ]
  },
  {
   "cell_type": "code",
   "execution_count": 2,
   "metadata": {},
   "outputs": [
    {
     "name": "stdout",
     "output_type": "stream",
     "text": [
      "Enter length : 20\n",
      "Enter width : 20\n",
      "Area of ractangle : 400\n"
     ]
    }
   ],
   "source": [
    "class ractangle:\n",
    "    def __init__(self,length,width):\n",
    "        self.length=length\n",
    "        self.width=width\n",
    "        \n",
    "    def area(self,ractangle):\n",
    "        return ractangle.length*ractangle.width\n",
    "    \n",
    "a=int(input(\"Enter length : \"))\n",
    "b=int(input(\"Enter width : \"))\n",
    "rect=ractangle(a,b)\n",
    "print(f\"Area of ractangle : {rect.area(rect)}\")"
   ]
  },
  {
   "cell_type": "markdown",
   "metadata": {},
   "source": [
    "### 11) Calculate the area of a square. \n",
    "### Include a Constructor, a method to calculate area named area() and a method named output() that prints the output and is invoked by area()."
   ]
  },
  {
   "cell_type": "code",
   "execution_count": 7,
   "metadata": {},
   "outputs": [
    {
     "name": "stdout",
     "output_type": "stream",
     "text": [
      "Enter value : 10\n",
      "100\n"
     ]
    }
   ],
   "source": [
    "class square:\n",
    "    def __init__(self,a):\n",
    "        self.a=a\n",
    "        \n",
    "    def area(self):\n",
    "        ans=self.a*self.a\n",
    "        self.output(ans)\n",
    "    def output(self,b):\n",
    "        print(b)\n",
    "d=int(input(\"Enter value : \"))\n",
    "f=square(d)\n",
    "f.area()"
   ]
  },
  {
   "cell_type": "markdown",
   "metadata": {},
   "source": [
    "### 12) Calculate the area of a rectangle. \n",
    "### Include a Constructor, a method to calculate area named area() and a method named output() that prints the output and is invoked by area().\n",
    "### Also define a class method that compares the two sides of reactangle. An object is instantiated only if the two sides are different; otherwise a message should be displayed : THIS IS SQUARE."
   ]
  },
  {
   "cell_type": "code",
   "execution_count": 12,
   "metadata": {},
   "outputs": [
    {
     "name": "stdout",
     "output_type": "stream",
     "text": [
      "Enter length : 10\n",
      "Enter width : 5\n",
      "The area of the rectangle is: 50\n",
      "This is a rectangle.\n"
     ]
    }
   ],
   "source": [
    "class Rectangle:\n",
    "    def __init__(self, length, width):\n",
    "        if length == width:\n",
    "            print(\"THIS IS SQUARE\")\n",
    "        else:\n",
    "            self.length = length\n",
    "            self.width = width\n",
    "\n",
    "    def area(self):\n",
    "        area = self.length * self.width\n",
    "        self.output(area)\n",
    "\n",
    "    def output(self, area):\n",
    "        print(f\"The area of the rectangle is: {area}\")\n",
    "\n",
    "    def compare_sides(self):\n",
    "        if self.length == self.width:\n",
    "            print(\"This is a square.\")\n",
    "        else:\n",
    "            print(\"This is a rectangle.\")\n",
    "\n",
    "length=int(input(\"Enter length : \"))\n",
    "width=int(input(\"Enter width : \"))\n",
    "rect = Rectangle(length,width)\n",
    "rect.area()\n",
    "rect.compare_sides()\n"
   ]
  },
  {
   "cell_type": "markdown",
   "metadata": {},
   "source": [
    "### 13) Define a class Square having a private attribute \"side\". \n",
    "### Implement get_side and set_side methods to accees the private attribute from outside of the class."
   ]
  },
  {
   "cell_type": "code",
   "execution_count": 14,
   "metadata": {},
   "outputs": [
    {
     "name": "stdout",
     "output_type": "stream",
     "text": [
      "5\n",
      "7\n"
     ]
    }
   ],
   "source": [
    "class Square:\n",
    "    def __init__(self, side):\n",
    "        self.__side = side  \n",
    "    \n",
    "    def get_side(self):\n",
    "        return self.__side\n",
    "    \n",
    "    def set_side(self, side):\n",
    "        self.__side = side\n",
    "\n",
    "\n",
    "square = Square(5)\n",
    "print(square.get_side()) \n",
    "square.set_side(7)     \n",
    "print(square.get_side())  \n"
   ]
  },
  {
   "cell_type": "markdown",
   "metadata": {},
   "source": [
    "### 14) Create a class Profit that has a method named getProfit that accepts profit from the user.\n",
    "### Create a class Loss that has a method named getLoss that accepts loss from the user.\n",
    "### Create a class BalanceSheet that inherits from both classes Profit and Loss and calculates the balanace. It has two methods getBalance() and printBalance()."
   ]
  },
  {
   "cell_type": "code",
   "execution_count": 15,
   "metadata": {},
   "outputs": [
    {
     "name": "stdout",
     "output_type": "stream",
     "text": [
      "Balance: 3000\n"
     ]
    }
   ],
   "source": [
    "class Profit:\n",
    "    def __init__(self):\n",
    "        self.profit = 0\n",
    "    \n",
    "    def getProfit(self, profit):\n",
    "        self.profit = profit\n",
    "\n",
    "class Loss:\n",
    "    def __init__(self):\n",
    "        self.loss = 0\n",
    "    \n",
    "    def getLoss(self, loss):\n",
    "        self.loss = loss\n",
    "\n",
    "class BalanceSheet(Profit, Loss):\n",
    "    def __init__(self):\n",
    "        Profit.__init__(self)\n",
    "        Loss.__init__(self)\n",
    "\n",
    "    def getBalance(self):\n",
    "        return self.profit - self.loss\n",
    "\n",
    "    def printBalance(self):\n",
    "        print(f\"Balance: {self.getBalance()}\")\n",
    "\n",
    "\n",
    "bs = BalanceSheet()\n",
    "bs.getProfit(5000)\n",
    "bs.getLoss(2000)\n",
    "bs.printBalance()\n"
   ]
  },
  {
   "cell_type": "markdown",
   "metadata": {},
   "source": [
    "### 15) WAP to demonstrate all types of inheritance."
   ]
  },
  {
   "cell_type": "code",
   "execution_count": 13,
   "metadata": {},
   "outputs": [
    {
     "name": "stdout",
     "output_type": "stream",
     "text": [
      "Animal speaks\n",
      "Dog barks\n",
      "Animal speaks\n",
      "Can fly\n",
      "Bird chirps\n",
      "Animal speaks\n",
      "Dog barks\n",
      "Puppy plays\n",
      "Animal speaks\n",
      "Cat meows\n",
      "Animal speaks\n",
      "Can fly\n",
      "Dog barks\n"
     ]
    }
   ],
   "source": [
    "\n",
    "class Animal:\n",
    "    def speak(self):\n",
    "        return \"Animal speaks\"\n",
    "\n",
    "class Dog(Animal):\n",
    "    def bark(self):\n",
    "        return \"Dog barks\"\n",
    "\n",
    "class Flyer:\n",
    "    def fly(self):\n",
    "        return \"Can fly\"\n",
    "\n",
    "class Bird(Animal, Flyer):\n",
    "    def chirp(self):\n",
    "        return \"Bird chirps\"\n",
    "\n",
    "class Puppy(Dog):\n",
    "    def play(self):\n",
    "        return \"Puppy plays\"\n",
    "\n",
    "class Cat(Animal):\n",
    "    def meow(self):\n",
    "        return \"Cat meows\"\n",
    "\n",
    "class Bat(Bird, Dog):\n",
    "    def hang(self):\n",
    "        return \"Bat hangs upside down\"\n",
    "\n",
    "\n",
    "dog = Dog()\n",
    "print(dog.speak()) \n",
    "print(dog.bark())   \n",
    "\n",
    "\n",
    "bird = Bird()\n",
    "print(bird.speak())\n",
    "print(bird.fly())   \n",
    "print(bird.chirp()) \n",
    "\n",
    "\n",
    "puppy = Puppy()\n",
    "print(puppy.speak()) \n",
    "print(puppy.bark())  \n",
    "print(puppy.play())   \n",
    "\n",
    "cat = Cat()\n",
    "print(cat.speak())  \n",
    "print(cat.meow())   \n",
    "\n",
    "\n",
    "bat = Bat()\n",
    "print(bat.speak()) \n",
    "print(bat.fly())   \n",
    "print(bat.bark())   "
   ]
  },
  {
   "cell_type": "markdown",
   "metadata": {},
   "source": [
    "### 16) Create a Person class with a constructor that takes two arguments name and age. \n",
    "### Create a child class Employee that inherits from Person and adds a new attribute salary. \n",
    "### Override the __init__ method in Employee to call the parent class's __init__ method using the super() and then initialize the salary attribute."
   ]
  },
  {
   "cell_type": "code",
   "execution_count": 2,
   "metadata": {},
   "outputs": [
    {
     "name": "stdout",
     "output_type": "stream",
     "text": [
      "Employee(Name: xyz, Age: 30, Salary: 50000)\n"
     ]
    }
   ],
   "source": [
    "\n",
    "class Person:\n",
    "    def __init__(self, name, age):\n",
    "        self.name = name\n",
    "        self.age = age\n",
    "\n",
    "\n",
    "class Employee(Person):\n",
    "    def __init__(self, name, age, salary):\n",
    "      \n",
    "        super().__init__(name, age)\n",
    "        self.salary = salary\n",
    "\n",
    "    def __str__(self):\n",
    "        return f\"Employee(Name: {self.name}, Age: {self.age}, Salary: {self.salary})\"\n",
    "\n",
    "emp = Employee(\"xyz\", 30, 50000)\n",
    "print(emp)\n"
   ]
  },
  {
   "cell_type": "markdown",
   "metadata": {},
   "source": [
    "### 17) Create a Shape class with a draw method that is not implemented. \n",
    "### Create three child classes Rectangle, Circle, and Triangle that implement the draw method with their respective drawing behaviors. \n",
    "### Create a list of Shape objects that includes one instance of each child class, and then iterate through the list and call the draw method on each object."
   ]
  },
  {
   "cell_type": "code",
   "execution_count": 3,
   "metadata": {},
   "outputs": [
    {
     "name": "stdout",
     "output_type": "stream",
     "text": [
      "Drawing a rectangle\n",
      "Drawing a circle\n",
      "Drawing a triangle\n"
     ]
    }
   ],
   "source": [
    "from abc import ABC, abstractmethod\n",
    "\n",
    "class Shape(ABC):\n",
    "    @abstractmethod\n",
    "    def draw(self):\n",
    "        pass\n",
    "\n",
    "\n",
    "class Rectangle(Shape):\n",
    "    def draw(self):\n",
    "        print(\"Drawing a rectangle\")\n",
    "\n",
    "\n",
    "class Circle(Shape):\n",
    "    def draw(self):\n",
    "        print(\"Drawing a circle\")\n",
    "\n",
    "class Triangle(Shape):\n",
    "    def draw(self):\n",
    "        print(\"Drawing a triangle\")\n",
    "\n",
    "shapes = [Rectangle(), Circle(), Triangle()]\n",
    "\n",
    "for shape in shapes:\n",
    "    shape.draw()\n"
   ]
  },
  {
   "cell_type": "code",
   "execution_count": null,
   "metadata": {},
   "outputs": [],
   "source": []
  }
 ],
 "metadata": {
  "kernelspec": {
   "display_name": "Python 3 (ipykernel)",
   "language": "python",
   "name": "python3"
  },
  "language_info": {
   "codemirror_mode": {
    "name": "ipython",
    "version": 3
   },
   "file_extension": ".py",
   "mimetype": "text/x-python",
   "name": "python",
   "nbconvert_exporter": "python",
   "pygments_lexer": "ipython3",
   "version": "3.10.9"
  }
 },
 "nbformat": 4,
 "nbformat_minor": 4
}
