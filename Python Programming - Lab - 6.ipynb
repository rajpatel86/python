{
 "cells": [
  {
   "cell_type": "markdown",
   "metadata": {},
   "source": [
    "<a href='https://www.darshan.ac.in/'> <img src='https://www.darshan.ac.in/Content/media/DU_Logo.svg' width=\"250\" height=\"300\"/></a>\n",
    "<pre>\n",
    "<center><b><h1>Python Programming - 2301CS404</b></center>\n",
    "<center><b><h1>Lab - 6</b></center>\n",
    "<center><b><h1>Raj Dedakiya | 23010101056 | 325</b></center> \n",
    "<pre>"
   ]
  },
  {
   "cell_type": "markdown",
   "metadata": {},
   "source": [
    "# Tuple"
   ]
  },
  {
   "cell_type": "markdown",
   "metadata": {},
   "source": [
    "### 01) WAP to find sum of tuple elements."
   ]
  },
  {
   "cell_type": "code",
   "execution_count": 1,
   "metadata": {},
   "outputs": [
    {
     "name": "stdout",
     "output_type": "stream",
     "text": [
      "sum of tuple is:  21\n"
     ]
    }
   ],
   "source": [
    "t1 = (1, 2, 3, 4, 5, 6)\n",
    "sum = 0\n",
    "for i in t1:\n",
    "    sum += i\n",
    "\n",
    "print(\"sum of tuple is: \", sum)"
   ]
  },
  {
   "cell_type": "markdown",
   "metadata": {},
   "source": [
    "### 02) WAP to find Maximum and Minimum K elements in a given tuple."
   ]
  },
  {
   "cell_type": "code",
   "execution_count": 2,
   "metadata": {},
   "outputs": [
    {
     "name": "stdout",
     "output_type": "stream",
     "text": [
      "max of tuple is:  10\n",
      "min of tuple is:  1\n"
     ]
    }
   ],
   "source": [
    "t2 = (1, 2, 3, 4, 5, 6, 7 ,8, 9, 10)\n",
    "print(\"max of tuple is: \", max(t2))\n",
    "print(\"min of tuple is: \", min(t2))"
   ]
  },
  {
   "cell_type": "markdown",
   "metadata": {},
   "source": [
    "### 03) WAP to find tuples which have all elements divisible by K from a list of tuples."
   ]
  },
  {
   "cell_type": "code",
   "execution_count": 23,
   "metadata": {},
   "outputs": [
    {
     "name": "stdout",
     "output_type": "stream",
     "text": [
      "Enter the number to find divisiblity in tuple: 2\n",
      "Tuple of divisible by  2  is:  [(2, 4, 6, 8, 10)]\n"
     ]
    }
   ],
   "source": [
    "t3 = [(1, 4, 6, 1, 3), (-1, 3, 5, 7, 9), (2, 4, 6, 8, 10), (1, -3, 5, 7, 9)]\n",
    "t4 = []\n",
    "k = int(input(\"Enter the number to find divisiblity in tuple: \"))\n",
    "for t in t3:\n",
    "    all_div=True\n",
    "    for i in t:\n",
    "        if i % k != 0:\n",
    "            all_div=False\n",
    "            break\n",
    "    if all_div:\n",
    "        t4.append(t)\n",
    "\n",
    "print(\"Tuple of divisible by \", k, \" is: \", t4)\n"
   ]
  },
  {
   "cell_type": "markdown",
   "metadata": {},
   "source": [
    "### 04) WAP to create a list of tuples from given list having number and its cube in each tuple."
   ]
  },
  {
   "cell_type": "code",
   "execution_count": 6,
   "metadata": {},
   "outputs": [
    {
     "name": "stdout",
     "output_type": "stream",
     "text": [
      "List of tuples with number and its cube:  [(1, 1), (2, 8), (3, 27), (4, 64), (5, 125)]\n",
      "List of tuples with number and its cube:  [(1, 1), (2, 8), (3, 27), (4, 64), (5, 125)]\n"
     ]
    }
   ],
   "source": [
    "l1 = [1, 2, 3, 4, 5]\n",
    "cubes = [(num, num**3) for num in l1]\n",
    "l2 =[]\n",
    "for i in l1:\n",
    "    l2.append((i, i**3))\n",
    "print(\"List of tuples with number and its cube: \", cubes)\n",
    "print(\"List of tuples with number and its cube: \", l2)"
   ]
  },
  {
   "cell_type": "markdown",
   "metadata": {},
   "source": [
    "### 05) WAP to find tuples with all positive elements from the given list of tuples."
   ]
  },
  {
   "cell_type": "code",
   "execution_count": 20,
   "metadata": {},
   "outputs": [
    {
     "name": "stdout",
     "output_type": "stream",
     "text": [
      "Tuples with all positive elements:  [(1, 4, 6, 1, 3), (2, 4, 6, 8, 10)]\n"
     ]
    }
   ],
   "source": [
    "l3 = [(1, 4, 6, 1, 3), (-1, 3, 5, 7, 9), (2, 4, 6, 8, 10), (1, -3, 5, 7, 9)]\n",
    "positive_tuples = [t for t in l3 if all(x > 0 for x in t)]\n",
    "print(\"Tuples with all positive elements: \", positive_tuples)"
   ]
  },
  {
   "cell_type": "code",
   "execution_count": 12,
   "metadata": {},
   "outputs": [
    {
     "name": "stdout",
     "output_type": "stream",
     "text": [
      "Tuples with all positive elements:  [(1, 4, 6, 1, 3), (2, 4, 6, 8, 10)]\n"
     ]
    }
   ],
   "source": [
    "l3 = [(1,4,6,1,3),(-1,3,5,7,9),(2,4,6,8,10),(1,-3,5,7,9)]\n",
    "positive_tuples = []\n",
    "for t in l3:\n",
    "    all_positive = True\n",
    "    for x in t:+\n",
    "        if x <= 0:\n",
    "            all_positive = False\n",
    "            break\n",
    "    if all_positive:\n",
    "        positive_tuples.append(t)\n",
    "\n",
    "print(\"Tuples with all positive elements: \", positive_tuples)"
   ]
  },
  {
   "cell_type": "markdown",
   "metadata": {},
   "source": [
    "### 06) WAP to add tuple to list and vice – versa."
   ]
  },
  {
   "cell_type": "code",
   "execution_count": 37,
   "metadata": {},
   "outputs": [
    {
     "name": "stdout",
     "output_type": "stream",
     "text": [
      "List:  [5, 6, 7]\n",
      "Tuple:  (9, 10)\n",
      "After adding:  [5, 6, 7, (9, 10)]\n"
     ]
    }
   ],
   "source": [
    "li = [5, 6, 7]\n",
    "tupl= (9, 10)\n",
    "print(\"List: \", li)\n",
    "print(\"Tuple: \", tupl)\n",
    "li.append(tupl)\n",
    "print(\"After adding: \",li)\n"
   ]
  },
  {
   "cell_type": "markdown",
   "metadata": {},
   "source": [
    "### 07) WAP to remove tuples of length K."
   ]
  },
  {
   "cell_type": "code",
   "execution_count": 29,
   "metadata": {},
   "outputs": [
    {
     "name": "stdout",
     "output_type": "stream",
     "text": [
      "The original list : [(4, 5), (4,), (8, 6, 7), (1,), (3, 4, 6, 7)]\n",
      "Enter the number to remove tuples of lenght: 2\n",
      "Filtered list : [(4,), (8, 6, 7), (1,), (3, 4, 6, 7)]\n"
     ]
    }
   ],
   "source": [
    "test_list = [(4, 5), (4, ), (8, 6, 7), (1, ), (3, 4, 6, 7)]\n",
    "print(\"The original list : \" + str(test_list))\n",
    "K = int(input(\"Enter the number to remove tuples of lenght: \"))\n",
    "res = [ele for ele in test_list if len(ele) != K]\n",
    "print(\"Filtered list : \" + str(res))"
   ]
  },
  {
   "cell_type": "markdown",
   "metadata": {},
   "source": [
    "### 08) WAP to remove duplicates from tuple."
   ]
  },
  {
   "cell_type": "code",
   "execution_count": 24,
   "metadata": {},
   "outputs": [
    {
     "name": "stdout",
     "output_type": "stream",
     "text": [
      "Tuple after removing duplicates:  (1, 2, 3, 4, 5, 6, 7, 8, 9, 10)\n"
     ]
    }
   ],
   "source": [
    "t6 = (1,1,2,3,3,4,4,5,5,6,6,6,7,7,8,8,9,9,10,10)\n",
    "t7 = tuple(set(t6))\n",
    "print(\"Tuple after removing duplicates: \", t7)"
   ]
  },
  {
   "cell_type": "markdown",
   "metadata": {},
   "source": [
    "### 09) WAP to multiply adjacent elements of a tuple and print that resultant tuple."
   ]
  },
  {
   "cell_type": "code",
   "execution_count": 25,
   "metadata": {},
   "outputs": [
    {
     "name": "stdout",
     "output_type": "stream",
     "text": [
      "Tuple after multiplying adjacent elements:  (2, 6, 12, 20, 30, 42, 56, 72, 90)\n"
     ]
    }
   ],
   "source": [
    "t8 = (1, 2, 3, 4, 5, 6, 7, 8, 9, 10)\n",
    "l8 = list(t8)\n",
    "t9 = ()\n",
    "\n",
    "for i in range(0, len(l8)-1):\n",
    "    t9 = t9 + (l8[i] * l8[i+1],)\n",
    "\n",
    "print(\"Tuple after multiplying adjacent elements: \", t9)"
   ]
  },
  {
   "cell_type": "markdown",
   "metadata": {},
   "source": [
    "### 10) WAP to test if the given tuple is distinct or not."
   ]
  },
  {
   "cell_type": "code",
   "execution_count": 26,
   "metadata": {},
   "outputs": [
    {
     "name": "stdout",
     "output_type": "stream",
     "text": [
      "tuple is distinct\n"
     ]
    }
   ],
   "source": [
    "t10 = (1, 2, 3, 4, 5, 6, 7, 8, 9, 10)\n",
    "if len(t10) == len(set(t10)):\n",
    "    print(\"tuple is distinct\")\n",
    "else:\n",
    "    print(\"tuple is not distinct\")"
   ]
  },
  {
   "cell_type": "code",
   "execution_count": null,
   "metadata": {},
   "outputs": [],
   "source": []
  }
 ],
 "metadata": {
  "kernelspec": {
   "display_name": "Python 3 (ipykernel)",
   "language": "python",
   "name": "python3"
  },
  "language_info": {
   "codemirror_mode": {
    "name": "ipython",
    "version": 3
   },
   "file_extension": ".py",
   "mimetype": "text/x-python",
   "name": "python",
   "nbconvert_exporter": "python",
   "pygments_lexer": "ipython3",
   "version": "3.10.9"
  }
 },
 "nbformat": 4,
 "nbformat_minor": 4
}
