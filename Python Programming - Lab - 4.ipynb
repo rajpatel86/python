{
 "cells": [
  {
   "cell_type": "markdown",
   "metadata": {},
   "source": [
    "\n",
    "<a href='https://www.darshan.ac.in/'> <img src='https://www.darshan.ac.in/Content/media/DU_Logo.svg' width=\"250\" height=\"300\"/></a>\n",
    "<pre>\n",
    "<center><b><h1>Python Programming - 2101CS405</b></center>\n",
    "<center><b><h1>Lab - 4</b></center>    \n",
    "<center><b><h1>Raj Dedakiya | 23010101056 | 325</b></center> \n",
    "<pre>"
   ]
  },
  {
   "cell_type": "markdown",
   "metadata": {},
   "source": [
    "# String"
   ]
  },
  {
   "cell_type": "markdown",
   "metadata": {},
   "source": [
    "### 01) WAP to check given string is palindrome or not."
   ]
  },
  {
   "cell_type": "code",
   "execution_count": 1,
   "metadata": {},
   "outputs": [
    {
     "name": "stdout",
     "output_type": "stream",
     "text": [
      "palindrom\n"
     ]
    }
   ],
   "source": [
    "str = \"HelloolleH\"\n",
    "\n",
    "if str == str[::-1] :\n",
    "    print(\"palindrom\")\n",
    "else :\n",
    "    print(\"not palindrom\")"
   ]
  },
  {
   "cell_type": "markdown",
   "metadata": {},
   "source": [
    "### 02) WAP to reverse the words in given string."
   ]
  },
  {
   "cell_type": "code",
   "execution_count": 17,
   "metadata": {},
   "outputs": [
    {
     "name": "stdout",
     "output_type": "stream",
     "text": [
      "olleH dlroW \n"
     ]
    }
   ],
   "source": [
    "str = \"Hello World\"\n",
    "out_str = ''\n",
    "words = str.split(' ')\n",
    "for i in words:\n",
    "    out_str += i[::-1]+' '\n",
    "out_str = out_str[0:len(out_str)]\n",
    "print(out_str)\n"
   ]
  },
  {
   "cell_type": "markdown",
   "metadata": {},
   "source": [
    "### 03) WAP to remove ith character from given string"
   ]
  },
  {
   "cell_type": "code",
   "execution_count": 18,
   "metadata": {},
   "outputs": [
    {
     "data": {
      "text/plain": [
       "'Hllo Wolrd'"
      ]
     },
     "execution_count": 18,
     "metadata": {},
     "output_type": "execute_result"
    }
   ],
   "source": [
    "index = 1;\n",
    "str = \"Hello Wolrd\"\n",
    "\n",
    "str = str[0:index]+str[index+1:]\n",
    "print(str)"
   ]
  },
  {
   "cell_type": "markdown",
   "metadata": {},
   "source": [
    "### 04) WAP to find length of String without using len function."
   ]
  },
  {
   "cell_type": "code",
   "execution_count": 3,
   "metadata": {},
   "outputs": [
    {
     "name": "stdout",
     "output_type": "stream",
     "text": [
      "Enter a string :- harsh\n",
      "5\n"
     ]
    }
   ],
   "source": [
    "str = input(\"Enter a string :- \")\n",
    "length = 0\n",
    "\n",
    "for i in str:\n",
    "    length +=1\n",
    "print(length)"
   ]
  },
  {
   "cell_type": "markdown",
   "metadata": {},
   "source": [
    "### 05) WAP to print even length word in string."
   ]
  },
  {
   "cell_type": "code",
   "execution_count": 5,
   "metadata": {},
   "outputs": [
    {
     "name": "stdout",
     "output_type": "stream",
     "text": [
      "dfdf\n",
      "sada\n"
     ]
    }
   ],
   "source": [
    "str = \"Hello Wolrd abc asd dfdf sada\"\n",
    "words = str.split(' ')\n",
    "\n",
    "for i in words:\n",
    "    if len(i)%2 == 0 :\n",
    "        print(i)\n"
   ]
  },
  {
   "cell_type": "markdown",
   "metadata": {},
   "source": [
    "### 06) WAP to count numbers of vowels in given string."
   ]
  },
  {
   "cell_type": "code",
   "execution_count": 43,
   "metadata": {},
   "outputs": [
    {
     "name": "stdout",
     "output_type": "stream",
     "text": [
      "7\n"
     ]
    }
   ],
   "source": [
    "string = \"Hello Wolrd abc asd dfdf sada\"\n",
    "vovels = {'a', 'e', 'i', 'o', 'u'}\n",
    "vovle_count = 0\n",
    "for i in string:\n",
    "    if(i in vovels):\n",
    "        vovle_count += 1\n",
    "print(vovle_count)"
   ]
  },
  {
   "cell_type": "markdown",
   "metadata": {},
   "source": [
    "### 07) WAP to convert given array to string."
   ]
  },
  {
   "cell_type": "code",
   "execution_count": 1,
   "metadata": {},
   "outputs": [
    {
     "name": "stdout",
     "output_type": "stream",
     "text": [
      "1 2 3 4 5 \n",
      "<class 'list'>\n"
     ]
    }
   ],
   "source": [
    "arr = [1,2,3,4,5]\n",
    "out_str = ''\n",
    "for i in arr:\n",
    "    out_str += str(i)+\" \"\n",
    "print(out_str)\n",
    "print(type(arr))"
   ]
  },
  {
   "cell_type": "markdown",
   "metadata": {},
   "source": [
    "### 01) WAP to find out duplicate characters in given string."
   ]
  },
  {
   "cell_type": "code",
   "execution_count": 49,
   "metadata": {},
   "outputs": [
    {
     "name": "stdout",
     "output_type": "stream",
     "text": [
      "l o l a d d d f s a d a "
     ]
    }
   ],
   "source": [
    "string = \"Hello Wolrd abc asd dfdf sada\"\n",
    "unique_char = set()\n",
    "\n",
    "for i in string:\n",
    "    if i == ' ': continue\n",
    "    if i in unique_char:\n",
    "        print(i, end = ' ')\n",
    "    else:\n",
    "        unique_char.add(i)"
   ]
  },
  {
   "cell_type": "markdown",
   "metadata": {},
   "source": [
    "### 02) WAP to capitalize the first and last character of each word in a string."
   ]
  },
  {
   "cell_type": "code",
   "execution_count": 59,
   "metadata": {},
   "outputs": [
    {
     "name": "stdout",
     "output_type": "stream",
     "text": [
      "A\n",
      "A\n",
      "D\n",
      "S\n"
     ]
    },
    {
     "data": {
      "text/plain": [
       "'HellO WolrD AbC AsD DfdF SadA '"
      ]
     },
     "execution_count": 59,
     "metadata": {},
     "output_type": "execute_result"
    }
   ],
   "source": [
    "string = \"Hello Wolrd abc asd dfdf sada\"\n",
    "words = string.split(' ')\n",
    "string = ''\n",
    "for i in words:\n",
    "    if(ord(i[0]) >= 97 and ord(i[0]) <= 122):\n",
    "        i = chr(ord(i[0])-32)+i[1:]\n",
    "    if(ord(i[-1]) >= 97 and ord(i[-1]) < 122):\n",
    "        i = i[0:len(i)-1]+chr(ord(i[-1])-32)\n",
    "    string += i+' '\n",
    "string"
   ]
  },
  {
   "cell_type": "code",
   "execution_count": null,
   "metadata": {},
   "outputs": [],
   "source": []
  },
  {
   "cell_type": "markdown",
   "metadata": {},
   "source": [
    "### 03) WAP to find Maximum frequency character in String."
   ]
  },
  {
   "cell_type": "code",
   "execution_count": 81,
   "metadata": {},
   "outputs": [
    {
     "name": "stdout",
     "output_type": "stream",
     "text": [
      "False\n"
     ]
    }
   ],
   "source": [
    "char_fre = {}\n",
    "string = \"Hello Wolrd abc asd dfdf sada\"\n",
    "\n",
    "# for i in string:\n",
    "    \n",
    "#     if(char_fre.get(i)):\n",
    "#         print(char_fre.get(i))\n",
    "#         char_fre[i] = 1\n",
    "#     else:\n",
    "#         char_fre[i] += 1\n",
    "print(char_fre.get(i) == 'None')"
   ]
  },
  {
   "cell_type": "markdown",
   "metadata": {},
   "source": [
    "### 04) WAP to find Minimum frequency character in String."
   ]
  },
  {
   "cell_type": "code",
   "execution_count": null,
   "metadata": {},
   "outputs": [],
   "source": []
  },
  {
   "cell_type": "markdown",
   "metadata": {},
   "source": [
    "### 05) WAP to check if a given string is binary string or not"
   ]
  },
  {
   "cell_type": "code",
   "execution_count": null,
   "metadata": {},
   "outputs": [],
   "source": []
  }
 ],
 "metadata": {
  "kernelspec": {
   "display_name": "Python 3 (ipykernel)",
   "language": "python",
   "name": "python3"
  },
  "language_info": {
   "codemirror_mode": {
    "name": "ipython",
    "version": 3
   },
   "file_extension": ".py",
   "mimetype": "text/x-python",
   "name": "python",
   "nbconvert_exporter": "python",
   "pygments_lexer": "ipython3",
   "version": "3.10.9"
  },
  "vscode": {
   "interpreter": {
    "hash": "31f2aee4e71d21fbe5cf8b01ff0e069b9275f58929596ceb00d14d90e3e16cd6"
   }
  }
 },
 "nbformat": 4,
 "nbformat_minor": 4
}
